{
 "metadata": {
  "name": "",
  "signature": "sha256:4c2c10be95d2e208e043157d0939ec5dbbe13d082eb3a640043dedb01f2c795d"
 },
 "nbformat": 3,
 "nbformat_minor": 0,
 "worksheets": [
  {
   "cells": [
    {
     "cell_type": "code",
     "collapsed": false,
     "input": [
      "#iPython notebooks are being a pain. They seem to be ignoring the $PYTHONPATH variable.\\n\",\n",
      "import sys\n",
      "sys.path.append('/var/www/ipython/spittalpond/')\n",
      "\n",
      "import requests\n",
      "import json\n",
      "import time\n",
      "from IPython.display import display, HTML\n",
      "\n",
      "import spittalpond"
     ],
     "language": "python",
     "metadata": {},
     "outputs": [],
     "prompt_number": 1
    },
    {
     "cell_type": "code",
     "collapsed": false,
     "input": [
      "def do_request_object(self, var):\n",
      "    str_response = None\n",
      "    url = None\n",
      "    in_data = None\n",
      "    if len(var) == 1:\n",
      "        url = self.base_url + var[0]\n",
      "    elif len(var) == 2:\n",
      "        url = self.base_url + var[0]\n",
      "        in_data = var[1]\n",
      "    elif len(var) != 0 and len(var) != 1:\n",
      "        print(\"Invalid parameters to dorequest \")\n",
      "        return None\n",
      "\n",
      "    #objHTTP.Open \"POST\", url, False\n",
      "    #objHTTP.setRequestHeader \"User-Agent\", \"Mozilla/4.0 (compatible; MSIE 6.0; Windows NT 5.0)\"\n",
      "    #objHTTP.setRequestHeader \"Content-type\", \"application/x-www-form-urlencoded\"\n",
      "    #objHTTP.Send (indata)\n",
      "    #strResponse = objHTTP.ResponseText\n",
      "    if in_data != None:\n",
      "        response = self.do_request(url, data=in_data)\n",
      "    else:\n",
      "        response = self.do_request(url)\n",
      "    return response  \n",
      "    #Set dorequestObject = lib.parse(CStr(strResponse))\n",
      "    #If dorequestObject.exists(\"not_authenticated\") Then\n",
      "    #    Err.Raise 1212, \"WebSession.dorequestObject\", \"Not authenticated\"\n",
      "    #End If\n",
      "    #End Function\n",
      "spittalpond.SpittalPond.do_request_object = do_request_object        \n"
     ],
     "language": "python",
     "metadata": {},
     "outputs": [],
     "prompt_number": 15
    },
    {
     "cell_type": "code",
     "collapsed": false,
     "input": [
      "def upload_file(self, local_file_path, destination_file_path):\n",
      "    url = self.base_url + \"/oasis/doTaskUploadFileHelper/\"  #self.upload_file_url\n",
      "    \n",
      "    boundary = \"AaB03x\"\n",
      "    \n",
      "    with open(local_file_path) as f:\n",
      "        in_file = f\n",
      "        form_data = f.read()\n",
      "    \n",
      "    in_data = \"\"\"\\\n",
      "        --{boundary}\n",
      "        Content-Disposition: form-data; name=\"{destination}\";filename=\"{destination}\"\n",
      "        Content-Type: text/plain\n",
      "        \n",
      "        {form_data}\n",
      "        --{boundary}--\n",
      "        \"\"\".format(\n",
      "                boundary=boundary,\n",
      "                destination=destination_file_path,\n",
      "                form_data=form_data\n",
      "        )\n",
      "        #send fiels...\n",
      "    response = self.do_request(url, in_data)\n",
      "    print(response.content)\n",
      "    #str_response=requests.post(\"http://tmrbmub01prd:8000/oasis/doTaskUploadFileHelper/\", files={'file':in_file})\n",
      "    #HTML(str_response.content)\n",
      "        \n",
      "spittalpond.SpittalPond.upload_file = upload_file        "
     ],
     "language": "python",
     "metadata": {},
     "outputs": [],
     "prompt_number": 35
    },
    {
     "cell_type": "code",
     "collapsed": false,
     "input": [
      " def create_toymodel():\n",
      "    event_dict_id = None\n",
      "    area_peril_dict_id = None\n",
      "    vuln_dict_id = None\n",
      "    hazard_intensity_bin_dict_id = None\n",
      "    damage_bin_dict_id = None\n",
      "    hazfp_version_id = None\n",
      "    vuln_version_id = None\n",
      "    hazfp_instance_id = None\n",
      "    vuln_instance_id = None\n",
      "    \n",
      "    upload_file = \"test.txt\"\n",
      "    upload_filename = upload_file #This name could contain the now_str\n",
      "    upload_filepath = \"/var/www/ipython/spittalpond/\"\n",
      "    \n",
      "    #'Checks for login status\n",
      "    #If isloggedin = False Then Exit Sub\n",
      "    if True:\n",
      "        #'create timestamp for destination files\n",
      "        str_now = \"\"\n",
      "        prepend_time_stamp = True #Shoudl be yest no diaglogue here.\n",
      "        if prepend_time_stamp: \n",
      "            str_now = time.strftime(\"%Y%m%d_%H%M%S_\", time.localtime())\n",
      "            upload_filename = str_now + upload_filename\n",
      "        \n",
      "        \"\"\"\n",
      "        'Creates Event Dict\n",
      "        print(\"Creating Model\")\n",
      "        #Range(\"rngDictEventFile1\").Offset(0, 8).value = str_now\n",
      "        event_dict_id = spittal.new_event_dict(model_name, #Range(\"rngModelName\").value, \n",
      "                                      pub_user & \"_\" & str_now & file_name, #Range(\"rngDictEventFile1\").value, \n",
      "                                      file_name, #Range(\"rngDictEventFile1\").value, \n",
      "                                      1 #This is some typ of value#Range(\"optModuleSupplierDict\").value\n",
      "                    )\n",
      "        #Range(\"rngDictEventFile1\").Offset(0, 7).value = eventdictid\n",
      "        #Range(\"rngDictEventFile1\").Offset(0, 15).value = \"Created\"\n",
      "        print(\"Created\")\n",
      "        \"\"\"\n",
      "        #dorequestObject(\"/oasis/createFileUpload/\" & name & \"/\" & filename & \"/\" & modulesupplierid & \"/\")\n",
      "        up_response = spittal.do_request_object([\"/oasis/createFileUpload/\" + \"root\" + \"/\" + upload_filename + \"/\" + \"1\" + \"/\"])\n",
      "        up_id = json.loads(up_response.content)['id']\n",
      "        print(\"up_id: \", up_id)\n",
      "        down_response = spittal.do_request_object([\"/oasis/createFileDownload/\" + \"root\" + \"/\" + upload_filename + \"/\" + \"1\" + \"/\"])\n",
      "        down_id = json.loads(down_response.content)['id']\n",
      "        print(\"down_id: \", down_id)\n",
      "        #Set createAreaPerilDict = ws.dorequestObject(\"/oasis/createAreaPerilDict/\" & name & \"/\" & modulesupplierid & \"/\" & fileuploadid & \"/\" & filedownloadid & \"/\")\n",
      "        resp = spittal.do_request_object([\"/oasis/createAreaPerilDict/\" + \"root\" + \"/\" + \"3\" + \"/\" + up_id + \"/\" + down_id + \"/\"])\n",
      "\n",
      "        \n",
      "        spittal.upload_file(upload_filepath + upload_file, upload_filepath + upload_file)\n",
      "    \n",
      "        print(\"Model tasks created.\\n\\n\"\n",
      "              \"Now you should upload the files to the Oasis mid-tier.\"\n",
      "              \"Use the Upload files macro for small files (<20MB)\"\n",
      "              \"or a file transfer tool such as WinSCP for large files.\")\n",
      "    \n"
     ],
     "language": "python",
     "metadata": {},
     "outputs": [],
     "prompt_number": 36
    },
    {
     "cell_type": "code",
     "collapsed": false,
     "input": [
      "spittal = spittalpond.SpittalPond()\n",
      "spittal.do_login('root', 'password')\n",
      "create_toymodel()\n"
     ],
     "language": "python",
     "metadata": {},
     "outputs": [
      {
       "output_type": "stream",
       "stream": "stdout",
       "text": [
        "You are logged into Mid-tier\n",
        "('up_id: ', u'357')\n",
        "('down_id: ', u'285')"
       ]
      },
      {
       "output_type": "stream",
       "stream": "stdout",
       "text": [
        "\n",
        "me-8000-RECEIVE-OK[POST=[u'', u'\"/var/www/ipython/spittalpond/test.txt\"', u'\"/var/www/ipython/spittalpond/test.txt\"\\n        Content-Type: text/plain\\n        \\n        A test file!\\n\\n        --AaB03x--\\n        '],files=]\n",
        "Model tasks created.\n",
        "\n",
        "Now you should upload the files to the Oasis mid-tier.Use the Upload files macro for small files (<20MB)or a file transfer tool such as WinSCP for large files.\n"
       ]
      }
     ],
     "prompt_number": 37
    },
    {
     "cell_type": "code",
     "collapsed": false,
     "input": [],
     "language": "python",
     "metadata": {},
     "outputs": [],
     "prompt_number": 5
    },
    {
     "cell_type": "code",
     "collapsed": false,
     "input": [],
     "language": "python",
     "metadata": {},
     "outputs": []
    }
   ],
   "metadata": {}
  }
 ]
}