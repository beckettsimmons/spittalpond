{
 "metadata": {
  "name": "",
  "signature": "sha256:957b6537318c1efb318e84c861d6fac55ca77fac0707459b849f4534bd47bae1"
 },
 "nbformat": 3,
 "nbformat_minor": 0,
 "worksheets": [
  {
   "cells": [
    {
     "cell_type": "code",
     "collapsed": false,
     "input": [
      "#iPython notebooks are being a pain. They seem to be ignoring the $PYTHONPATH variable.\n",
      "import sys\n",
      "sys.path.append('/var/www/ipython/spittalpond/')\n",
      "\n",
      "import spittalpond"
     ],
     "language": "python",
     "metadata": {},
     "outputs": [],
     "prompt_number": 4
    },
    {
     "cell_type": "code",
     "collapsed": false,
     "input": [
      "spittal = spittalpond.SpittalPond()\n",
      "spittal.do_login('root', 'password')"
     ],
     "language": "python",
     "metadata": {},
     "outputs": [
      {
       "output_type": "stream",
       "stream": "stdout",
       "text": [
        "You are logged into Mid-tier\n"
       ]
      }
     ],
     "prompt_number": 5
    },
    {
     "cell_type": "code",
     "collapsed": false,
     "input": [],
     "language": "python",
     "metadata": {},
     "outputs": []
    }
   ],
   "metadata": {}
  }
 ]
}