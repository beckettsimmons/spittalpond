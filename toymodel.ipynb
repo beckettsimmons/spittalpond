{
 "metadata": {
  "name": "",
  "signature": "sha256:e573522d1a02a6b00bb8c495fc3c8e14cbd3b9f1933f3cab12fe38c2ffbd0e89"
 },
 "nbformat": 3,
 "nbformat_minor": 0,
 "worksheets": [
  {
   "cells": [
    {
     "cell_type": "code",
     "collapsed": false,
     "input": [
      "import spittalpond\n",
      "import time\n",
      "import json\n",
      "from IPython.display import HTML"
     ],
     "language": "python",
     "metadata": {},
     "outputs": [],
     "prompt_number": 1
    },
    {
     "cell_type": "code",
     "collapsed": false,
     "input": [
      "#Settings that I don't really know what they are doing.\n",
      "pub_user = \"root\"\n",
      "module_supplier_id = \"27\" #Added a manaual entry for this.\n",
      "do_timestamps = True\n",
      "# Create new spittal instance.\n",
      "spittal = spittalpond.SpittalPond(\n",
      "            base_url=\"http://tmrbmub01prd:8000\",\n",
      "            pub_user=\"root\"\n",
      ")"
     ],
     "language": "python",
     "metadata": {},
     "outputs": [],
     "prompt_number": 2
    },
    {
     "cell_type": "code",
     "collapsed": false,
     "input": [
      "# Log into Django mid-tier\n",
      "spittal.do_login('password')"
     ],
     "language": "python",
     "metadata": {},
     "outputs": [
      {
       "output_type": "stream",
       "stream": "stdout",
       "text": [
        "You are logged into Mid-tier\n"
       ]
      }
     ],
     "prompt_number": 3
    },
    {
     "cell_type": "code",
     "collapsed": false,
     "input": [
      "upload_directory = \"/home/bsimmons/Oasis/MyOasisFiles/models/\"\n",
      "data_dict = spittal.upload_directory(upload_directory, do_timestamps)"
     ],
     "language": "python",
     "metadata": {},
     "outputs": [
      {
       "output_type": "stream",
       "stream": "stdout",
       "text": [
        "Uploaded directory\n"
       ]
      }
     ],
     "prompt_number": 4
    },
    {
     "cell_type": "code",
     "collapsed": false,
     "input": [
      "data_dict = spittal.create_model_structures(data_dict, module_supplier_id)"
     ],
     "language": "python",
     "metadata": {},
     "outputs": [
      {
       "output_type": "stream",
       "stream": "stdout",
       "text": [
        "Created model structures\n"
       ]
      }
     ],
     "prompt_number": 5
    },
    {
     "cell_type": "code",
     "collapsed": false,
     "input": [
      "data_dict = spittal.load_models(data_dict)"
     ],
     "language": "python",
     "metadata": {},
     "outputs": [
      {
       "output_type": "stream",
       "stream": "stdout",
       "text": [
        "Loaded model\n"
       ]
      }
     ],
     "prompt_number": 7
    },
    {
     "cell_type": "code",
     "collapsed": false,
     "input": [
      "resp = spittal.create_benchmark(\n",
      "    pub_user,\n",
      "    data_dict['version_hazfp']['job_id'],\n",
      "    data_dict['exposures_main']['job_id'],\n",
      "    data_dict['version_vuln']['job_id'],\n",
      "    4,\n",
      "    3,\n",
      "    7\n",
      ")\n",
      "resp.content"
     ],
     "language": "python",
     "metadata": {},
     "outputs": [
      {
       "metadata": {},
       "output_type": "pyout",
       "prompt_number": 8,
       "text": [
        "'{\"status\": \"failed\", \"progress\": \"none\", \"detail\": \"Django Object creation failed: HazFPInstance matching query does not exist.\", \"success\": false, \"JobId\": \"0\"}'"
       ]
      }
     ],
     "prompt_number": 8
    },
    {
     "cell_type": "code",
     "collapsed": false,
     "input": [
      "resp = spittal.do_task(\"Benchmark\", 1, 1)\n",
      "resp.content"
     ],
     "language": "python",
     "metadata": {},
     "outputs": [
      {
       "metadata": {},
       "output_type": "pyout",
       "prompt_number": 9,
       "text": [
        "'{\"status\": \"WIP\", \"progress\": \"Started\", \"detail\": \"OK\", \"success\": true, \"JobId\": 122}'"
       ]
      }
     ],
     "prompt_number": 9
    },
    {
     "cell_type": "code",
     "collapsed": false,
     "input": [
      "resp = spittal.check_status(66, 1)\n",
      "resp.content"
     ],
     "language": "python",
     "metadata": {},
     "outputs": [
      {
       "metadata": {},
       "output_type": "pyout",
       "prompt_number": 10,
       "text": [
        "'{\"status\": \"done\", \"CompletedSteps\": \"\", \"JobId\": 66, \"result\": \"FAILED\", \"Timeout\": false, \"progress\": \"FAILED\"}'"
       ]
      }
     ],
     "prompt_number": 10
    },
    {
     "cell_type": "code",
     "collapsed": false,
     "input": [],
     "language": "python",
     "metadata": {},
     "outputs": []
    }
   ],
   "metadata": {}
  }
 ]
}