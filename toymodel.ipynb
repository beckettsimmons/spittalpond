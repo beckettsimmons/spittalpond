{
 "metadata": {
  "name": "",
  "signature": "sha256:0402a7ebd34801fd331e6d7862e715cb2fa2b7844c2d24c97a5cbc78ed511657"
 },
 "nbformat": 3,
 "nbformat_minor": 0,
 "worksheets": [
  {
   "cells": [
    {
     "cell_type": "code",
     "collapsed": false,
     "input": [
      "import spittalpond\n",
      "import time\n",
      "import json\n",
      "from IPython.display import HTML"
     ],
     "language": "python",
     "metadata": {},
     "outputs": [],
     "prompt_number": 1
    },
    {
     "cell_type": "code",
     "collapsed": false,
     "input": [
      "def create_timestamps():\n",
      "        \"\"\"Create timestamp for destination files\"\"\"\n",
      "        str_now = time.strftime(\"%Y%m%d_%H%M%S_\", time.localtime())\n",
      "        return str_now"
     ],
     "language": "python",
     "metadata": {},
     "outputs": [],
     "prompt_number": 2
    },
    {
     "cell_type": "code",
     "collapsed": false,
     "input": [
      "# Setup the upload file paths and stuff.\n",
      "local_filename = \"testDictAreaPeril.csv\"\n",
      "local_filepath = \"/var/www/ipython/spittalpond/\"\n",
      "local_absolute_filepath = local_filepath + local_filename\n",
      "\n",
      "#Settings that I don't really know what they are doing.\n",
      "pub_user = \"root\"\n",
      "module_supplier_id = \"1\"\n",
      "# Create new spittal instance.\n",
      "spittal = spittalpond.SpittalPond(\n",
      "            base_url=\"http://tmrbmub01prd:8000\",\n",
      "            pub_user=\"root\"\n",
      ")\n",
      "# Add timestamps to the filename\n",
      "upload_filename = create_timestamps() + local_filename\n",
      "print upload_filename"
     ],
     "language": "python",
     "metadata": {},
     "outputs": [
      {
       "output_type": "stream",
       "stream": "stdout",
       "text": [
        "20140811_110815_testDictAreaPeril.csv\n"
       ]
      }
     ],
     "prompt_number": 3
    },
    {
     "cell_type": "code",
     "collapsed": false,
     "input": [
      "# Log into Django mid-tier\n",
      "spittal.do_login('password')"
     ],
     "language": "python",
     "metadata": {},
     "outputs": [
      {
       "output_type": "stream",
       "stream": "stdout",
       "text": [
        "You are logged into Mid-tier\n"
       ]
      }
     ],
     "prompt_number": 4
    },
    {
     "cell_type": "code",
     "collapsed": false,
     "input": [
      "# Create a file upload and get it's ID.\n",
      "up_id = spittal.create_file_upload(upload_filename, pub_user, module_supplier_id)\n",
      "print(up_id)\n",
      "\n",
      "down_id = spittal.create_file_download(upload_filename, pub_user, module_supplier_id)\n",
      "print(down_id)\n",
      "\n",
      "resp = spittal.create_dict(\"AreaPerilDict\", up_id, down_id, pub_user, module_supplier_id)\n",
      "dict_id = json.loads(resp.content)['id']\n",
      "HTML(resp.content)"
     ],
     "language": "python",
     "metadata": {},
     "outputs": [
      {
       "output_type": "stream",
       "stream": "stdout",
       "text": [
        "505\n",
        "{u'status': u'done', u'id': u'382', u'success': True, u'JobId': u'0'}\n",
        "382\n"
       ]
      },
      {
       "html": [
        "{\"status\": \"done\", \"id\": \"75\", \"success\": true, \"JobId\": \"0\"}"
       ],
       "metadata": {},
       "output_type": "pyout",
       "prompt_number": 6,
       "text": [
        "<IPython.core.display.HTML at 0x7ff3974b3290>"
       ]
      }
     ],
     "prompt_number": 6
    },
    {
     "cell_type": "code",
     "collapsed": false,
     "input": [
      "# Actually upload the file to the server.\n",
      "resp = spittal.upload_file(local_absolute_filepath, upload_filename)#upload_file)\n",
      "HTML(resp.content)"
     ],
     "language": "python",
     "metadata": {},
     "outputs": [
      {
       "output_type": "stream",
       "stream": "stdout",
       "text": [
        "20140811_110815_testDictAreaPeril.csv\n"
       ]
      },
      {
       "html": [
        "me-8000-RECEIVE-OK[POST=[],files=]"
       ],
       "metadata": {},
       "output_type": "pyout",
       "prompt_number": 7,
       "text": [
        "<IPython.core.display.HTML at 0x7ff397264f50>"
       ]
      }
     ],
     "prompt_number": 7
    },
    {
     "cell_type": "code",
     "collapsed": false,
     "input": [
      "resp = spittal.do_task('doTaskAreaPerilDict', dict_id, 2)\n",
      "HTML(resp.content)"
     ],
     "language": "python",
     "metadata": {},
     "outputs": [
      {
       "html": [
        "{\"status\": \"WIP\", \"progress\": \"Started\", \"detail\": \"OK\", \"success\": true, \"JobId\": 14}"
       ],
       "metadata": {},
       "output_type": "pyout",
       "prompt_number": 8,
       "text": [
        "<IPython.core.display.HTML at 0x7ff397264dd0>"
       ]
      }
     ],
     "prompt_number": 8
    },
    {
     "cell_type": "code",
     "collapsed": false,
     "input": [],
     "language": "python",
     "metadata": {},
     "outputs": [],
     "prompt_number": 22
    },
    {
     "cell_type": "code",
     "collapsed": false,
     "input": [],
     "language": "python",
     "metadata": {},
     "outputs": []
    }
   ],
   "metadata": {}
  }
 ]
}