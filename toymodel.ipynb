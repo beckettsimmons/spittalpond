{
 "metadata": {
  "name": "",
  "signature": "sha256:a7acfff36edadf731a486633dd4e9c0ad7f255db9a26ace609641da76ff551e5"
 },
 "nbformat": 3,
 "nbformat_minor": 0,
 "worksheets": [
  {
   "cells": [
    {
     "cell_type": "markdown",
     "metadata": {},
     "source": [
      "# Toy Example"
     ]
    },
    {
     "cell_type": "code",
     "collapsed": false,
     "input": [
      "import spittalpond\n",
      "import time\n",
      "import json\n",
      "from IPython.display import HTML"
     ],
     "language": "python",
     "metadata": {},
     "outputs": [],
     "prompt_number": 1
    },
    {
     "cell_type": "markdown",
     "metadata": {},
     "source": [
      "#### Setting up the basic settings needed"
     ]
    },
    {
     "cell_type": "code",
     "collapsed": false,
     "input": [
      "pub_user = \"root\"\n",
      "module_supplier_id = \"27\" #Added a manaual entry for this.\n",
      "do_timestamps = True\n",
      "# Create new spittal instance.\n",
      "spittal = spittalpond.SpittalPond(\n",
      "            base_url=\"http://tmrbmub01prd:8000\",\n",
      "            pub_user=\"root\"\n",
      ")"
     ],
     "language": "python",
     "metadata": {},
     "outputs": [],
     "prompt_number": 2
    },
    {
     "cell_type": "markdown",
     "metadata": {},
     "source": [
      "#### Log in"
     ]
    },
    {
     "cell_type": "code",
     "collapsed": false,
     "input": [
      "# Log into Django mid-tier\n",
      "spittal.do_login('password')"
     ],
     "language": "python",
     "metadata": {},
     "outputs": [
      {
       "output_type": "stream",
       "stream": "stdout",
       "text": [
        "You are logged into Mid-tier\n"
       ]
      }
     ],
     "prompt_number": 3
    },
    {
     "cell_type": "markdown",
     "metadata": {},
     "source": [
      "#### Upload the entire directory"
     ]
    },
    {
     "cell_type": "code",
     "collapsed": false,
     "input": [
      "upload_directory = \"/home/bsimmons/Oasis/MyOasisFiles/models/\"\n",
      "data_dict = spittal.upload_directory(upload_directory, do_timestamps)"
     ],
     "language": "python",
     "metadata": {},
     "outputs": [
      {
       "output_type": "stream",
       "stream": "stdout",
       "text": [
        "Uploaded directory\n"
       ]
      }
     ],
     "prompt_number": 4
    },
    {
     "cell_type": "markdown",
     "metadata": {},
     "source": [
      "#### Create Model"
     ]
    },
    {
     "cell_type": "code",
     "collapsed": false,
     "input": [
      "data_dict = spittal.create_model_structures(data_dict, module_supplier_id)"
     ],
     "language": "python",
     "metadata": {},
     "outputs": [
      {
       "output_type": "stream",
       "stream": "stdout",
       "text": [
        "Created model structures\n"
       ]
      }
     ],
     "prompt_number": 5
    },
    {
     "cell_type": "markdown",
     "metadata": {},
     "source": [
      "#### Load Diction"
     ]
    },
    {
     "cell_type": "code",
     "collapsed": false,
     "input": [
      "data_dict = spittal.load_models(data_dict)"
     ],
     "language": "python",
     "metadata": {},
     "outputs": [
      {
       "output_type": "stream",
       "stream": "stdout",
       "text": [
        "Loaded model\n"
       ]
      }
     ],
     "prompt_number": 6
    },
    {
     "cell_type": "markdown",
     "metadata": {},
     "source": [
      "#### Create Benchmark"
     ]
    },
    {
     "cell_type": "code",
     "collapsed": false,
     "input": [
      "resp = spittal.create_benchmark(\n",
      "    pub_user,\n",
      "    data_dict['version_hazfp']['job_id'],\n",
      "    data_dict['exposures_main']['job_id'],\n",
      "    data_dict['version_vuln']['job_id'],\n",
      "    4,\n",
      "    3,\n",
      "    7\n",
      ")\n",
      "resp.content"
     ],
     "language": "python",
     "metadata": {},
     "outputs": [
      {
       "metadata": {},
       "output_type": "pyout",
       "prompt_number": 10,
       "text": [
        "'{\"status\": \"done\", \"id\": \"3\", \"success\": true, \"JobId\": \"0\"}'"
       ]
      }
     ],
     "prompt_number": 10
    },
    {
     "cell_type": "markdown",
     "metadata": {},
     "source": [
      "#### Run Benchmark"
     ]
    },
    {
     "cell_type": "code",
     "collapsed": false,
     "input": [
      "resp = spittal.do_task(\"Benchmark\", 1, 1)\n",
      "resp.content"
     ],
     "language": "python",
     "metadata": {},
     "outputs": [
      {
       "metadata": {},
       "output_type": "pyout",
       "prompt_number": 11,
       "text": [
        "'{\"status\": \"WIP\", \"progress\": \"Started\", \"detail\": \"OK\", \"success\": true, \"JobId\": 237}'"
       ]
      }
     ],
     "prompt_number": 11
    },
    {
     "cell_type": "markdown",
     "metadata": {},
     "source": [
      "#### Check the status of latest job"
     ]
    },
    {
     "cell_type": "code",
     "collapsed": false,
     "input": [
      "resp = spittal.check_status(66, 1)\n",
      "resp.content"
     ],
     "language": "python",
     "metadata": {},
     "outputs": [
      {
       "metadata": {},
       "output_type": "pyout",
       "prompt_number": 14,
       "text": [
        "'{\"status\": \"done\", \"CompletedSteps\": \"\", \"JobId\": 237, \"result\": \"FINISHED\", \"Timeout\": false, \"progress\": \"FINISHED\"}'"
       ]
      }
     ],
     "prompt_number": 14
    },
    {
     "cell_type": "code",
     "collapsed": false,
     "input": [],
     "language": "python",
     "metadata": {},
     "outputs": []
    }
   ],
   "metadata": {}
  }
 ]
}