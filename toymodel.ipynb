{
 "metadata": {
  "name": "",
  "signature": "sha256:87d564da140938abd6782f805ac24e26e8f88996194371f61166845c155a89af"
 },
 "nbformat": 3,
 "nbformat_minor": 0,
 "worksheets": [
  {
   "cells": [
    {
     "cell_type": "code",
     "collapsed": false,
     "input": [
      "import spittalpond\n",
      "import time\n",
      "import json\n",
      "from IPython.display import HTML"
     ],
     "language": "python",
     "metadata": {},
     "outputs": [],
     "prompt_number": 1
    },
    {
     "cell_type": "code",
     "collapsed": false,
     "input": [
      "#Settings that I don't really know what they are doing.\n",
      "pub_user = \"root\"\n",
      "module_supplier_id = \"1\"\n",
      "do_timestamps = True\n",
      "# Create new spittal instance.\n",
      "spittal = spittalpond.SpittalPond(\n",
      "            base_url=\"http://tmrbmub01prd:8000\",\n",
      "            pub_user=\"root\"\n",
      ")"
     ],
     "language": "python",
     "metadata": {},
     "outputs": [],
     "prompt_number": 2
    },
    {
     "cell_type": "code",
     "collapsed": false,
     "input": [
      "# Log into Django mid-tier\n",
      "spittal.do_login('password')"
     ],
     "language": "python",
     "metadata": {},
     "outputs": [
      {
       "output_type": "stream",
       "stream": "stdout",
       "text": [
        "You are logged into Mid-tier\n"
       ]
      }
     ],
     "prompt_number": 3
    },
    {
     "cell_type": "code",
     "collapsed": false,
     "input": [
      "upload_directory = \"/home/bsimmons/Oasis/MyOasisFiles/models/\"\n",
      "data_dict = spittal.upload_directory(upload_directory, do_timestamps)"
     ],
     "language": "python",
     "metadata": {},
     "outputs": [
      {
       "output_type": "stream",
       "stream": "stdout",
       "text": [
        "Finally done\n"
       ]
      }
     ],
     "prompt_number": 4
    },
    {
     "cell_type": "code",
     "collapsed": false,
     "input": [
      "spittal.create_"
     ],
     "language": "python",
     "metadata": {},
     "outputs": [],
     "prompt_number": 22
    },
    {
     "cell_type": "code",
     "collapsed": false,
     "input": [],
     "language": "python",
     "metadata": {},
     "outputs": []
    }
   ],
   "metadata": {}
  }
 ]
}