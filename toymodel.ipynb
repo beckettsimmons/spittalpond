{
 "metadata": {
  "name": "",
  "signature": "sha256:db4142ad90306311fb8cb90836d74ed13c74f84da884caf24e368c93b0f29c8c"
 },
 "nbformat": 3,
 "nbformat_minor": 0,
 "worksheets": [
  {
   "cells": [
    {
     "cell_type": "markdown",
     "metadata": {},
     "source": [
      "# Toy Example"
     ]
    },
    {
     "cell_type": "markdown",
     "metadata": {},
     "source": [
      "## General Setup\n",
      "\n",
      "***************************************************"
     ]
    },
    {
     "cell_type": "code",
     "collapsed": false,
     "input": [
      "import spittalpond\n",
      "import time\n",
      "import json\n",
      "from IPython.display import HTML"
     ],
     "language": "python",
     "metadata": {},
     "outputs": [],
     "prompt_number": 1
    },
    {
     "cell_type": "markdown",
     "metadata": {},
     "source": [
      "#### Setting up the basic settings needed"
     ]
    },
    {
     "cell_type": "code",
     "collapsed": false,
     "input": [
      "pub_user = \"root\"\n",
      "module_supplier_id = \"27\" #Added a manaual entry for this.\n",
      "do_timestamps = True\n",
      "# Create new spittal instance.\n",
      "spittal = spittalpond.SpittalPond(\n",
      "            base_url=\"http://tmrbmub01prd:8000\",\n",
      "            pub_user=\"root\"\n",
      ")"
     ],
     "language": "python",
     "metadata": {},
     "outputs": [],
     "prompt_number": 2
    },
    {
     "cell_type": "markdown",
     "metadata": {},
     "source": [
      "## Setup Model\n",
      "\n",
      "********************************************************************"
     ]
    },
    {
     "cell_type": "markdown",
     "metadata": {},
     "source": [
      "#### Log in"
     ]
    },
    {
     "cell_type": "code",
     "collapsed": false,
     "input": [
      "# Log into Django mid-tier (Have to log in for each seperate instance.)\n",
      "spittal.model.do_login('password')"
     ],
     "language": "python",
     "metadata": {},
     "outputs": [
      {
       "output_type": "stream",
       "stream": "stdout",
       "text": [
        "You are logged into Mid-tier\n"
       ]
      }
     ],
     "prompt_number": 3
    },
    {
     "cell_type": "markdown",
     "metadata": {},
     "source": [
      "#### Upload Model Files"
     ]
    },
    {
     "cell_type": "code",
     "collapsed": false,
     "input": [
      "upload_directory = \"/home/bsimmons/Oasis/MyOasisFiles/models/\"\n",
      "spittal.model.upload_directory(upload_directory, do_timestamps)"
     ],
     "language": "python",
     "metadata": {},
     "outputs": [
      {
       "output_type": "stream",
       "stream": "stdout",
       "text": [
        "Uploaded directory\n"
       ]
      }
     ],
     "prompt_number": 4
    },
    {
     "cell_type": "markdown",
     "metadata": {},
     "source": [
      "#### Create Model"
     ]
    },
    {
     "cell_type": "code",
     "collapsed": false,
     "input": [
      "spittal.model.create_model_structures(module_supplier_id)"
     ],
     "language": "python",
     "metadata": {},
     "outputs": [
      {
       "output_type": "stream",
       "stream": "stdout",
       "text": [
        "Finished creating model strutures.\n"
       ]
      }
     ],
     "prompt_number": 5
    },
    {
     "cell_type": "markdown",
     "metadata": {},
     "source": [
      "#### Load Model"
     ]
    },
    {
     "cell_type": "code",
     "collapsed": false,
     "input": [
      "spittal.model.load_models()"
     ],
     "language": "python",
     "metadata": {},
     "outputs": [
      {
       "output_type": "stream",
       "stream": "stdout",
       "text": [
        "Loaded model\n"
       ]
      }
     ],
     "prompt_number": 6
    },
    {
     "cell_type": "markdown",
     "metadata": {},
     "source": [
      "## Setup Exposures\n",
      "\n",
      "*************************************************"
     ]
    },
    {
     "cell_type": "markdown",
     "metadata": {},
     "source": [
      "#### Log in"
     ]
    },
    {
     "cell_type": "code",
     "collapsed": false,
     "input": [
      "# Log into Django mid-tier (Have to log in for each seperate instance.)\n",
      "spittal.exposure.do_login('password')"
     ],
     "language": "python",
     "metadata": {},
     "outputs": [
      {
       "output_type": "stream",
       "stream": "stdout",
       "text": [
        "You are logged into Mid-tier\n"
       ]
      }
     ],
     "prompt_number": 7
    },
    {
     "cell_type": "markdown",
     "metadata": {},
     "source": [
      "#### Upload Exposure Files"
     ]
    },
    {
     "cell_type": "code",
     "collapsed": false,
     "input": [
      "upload_directory = \"/home/bsimmons/Oasis/MyOasisFiles/exposures/\"\n",
      "spittal.exposure.upload_directory(upload_directory, do_timestamps)"
     ],
     "language": "python",
     "metadata": {},
     "outputs": [
      {
       "output_type": "stream",
       "stream": "stdout",
       "text": [
        "Uploaded directory\n"
       ]
      }
     ],
     "prompt_number": 8
    },
    {
     "cell_type": "markdown",
     "metadata": {},
     "source": [
      "#### Create Exposure Database Structures"
     ]
    },
    {
     "cell_type": "code",
     "collapsed": false,
     "input": [
      "model_data_dict = spittal.model.data_dict\n",
      "spittal.exposure.create_exposure_structure(model_data_dict, module_supplier_id)"
     ],
     "language": "python",
     "metadata": {},
     "outputs": [
      {
       "output_type": "stream",
       "stream": "stdout",
       "text": [
        "Finished creating exposure structures.\n"
       ]
      }
     ],
     "prompt_number": 9
    },
    {
     "cell_type": "markdown",
     "metadata": {},
     "source": [
      "#### Load Exposure to Job Queue"
     ]
    },
    {
     "cell_type": "code",
     "collapsed": false,
     "input": [
      "spittal.exposure.load_models()"
     ],
     "language": "python",
     "metadata": {},
     "outputs": [
      {
       "output_type": "stream",
       "stream": "stdout",
       "text": [
        "Loaded model\n"
       ]
      }
     ],
     "prompt_number": 10
    },
    {
     "cell_type": "markdown",
     "metadata": {},
     "source": [
      "#### Create Benchmark"
     ]
    },
    {
     "cell_type": "code",
     "collapsed": false,
     "input": [
      "resp = spittal.exposure.create_benchmark()\n",
      "resp.content"
     ],
     "language": "python",
     "metadata": {},
     "outputs": [
      {
       "metadata": {},
       "output_type": "pyout",
       "prompt_number": 11,
       "text": [
        "'{\"status\": \"done\", \"id\": \"6\", \"success\": true, \"JobId\": \"0\"}'"
       ]
      }
     ],
     "prompt_number": 11
    },
    {
     "cell_type": "markdown",
     "metadata": {},
     "source": [
      "#### Run Benchmark"
     ]
    },
    {
     "cell_type": "code",
     "collapsed": false,
     "input": [
      "benchmark_id = json.loads(resp.content)['id']\n",
      "resp = spittal.exposure.do_task(\"Benchmark\", 4, 1)\n",
      "resp.content"
     ],
     "language": "python",
     "metadata": {},
     "outputs": [
      {
       "metadata": {},
       "output_type": "pyout",
       "prompt_number": 12,
       "text": [
        "'{\"status\": \"WIP\", \"progress\": \"Started\", \"detail\": \"OK\", \"success\": true, \"JobId\": 401}'"
       ]
      }
     ],
     "prompt_number": 12
    },
    {
     "cell_type": "markdown",
     "metadata": {},
     "source": [
      "#### Check the status of latest job"
     ]
    },
    {
     "cell_type": "code",
     "collapsed": false,
     "input": [
      "last_job_id = json.loads(resp.content)['JobId']\n",
      "resp = spittal.exposure.check_status(last_job_id, 1)\n",
      "resp.content"
     ],
     "language": "python",
     "metadata": {},
     "outputs": [
      {
       "metadata": {},
       "output_type": "pyout",
       "prompt_number": 14,
       "text": [
        "'{\"status\": \"done\", \"CompletedSteps\": \"\", \"JobId\": 401, \"result\": \"FAILED\", \"Timeout\": false, \"progress\": \"FAILED\"}'"
       ]
      }
     ],
     "prompt_number": 14
    },
    {
     "cell_type": "code",
     "collapsed": false,
     "input": [],
     "language": "python",
     "metadata": {},
     "outputs": []
    }
   ],
   "metadata": {}
  }
 ]
}