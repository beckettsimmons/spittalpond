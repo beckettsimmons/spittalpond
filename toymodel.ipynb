{
 "metadata": {
  "name": "",
  "signature": "sha256:c23126a6c9b9a8c0b605465b506947e8fea96168745acc9450707a3ca3e07737"
 },
 "nbformat": 3,
 "nbformat_minor": 0,
 "worksheets": [
  {
   "cells": [
    {
     "cell_type": "code",
     "collapsed": false,
     "input": [
      "import spittalpond\n",
      "import time\n",
      "import json\n",
      "from IPython.display import HTML"
     ],
     "language": "python",
     "metadata": {},
     "outputs": [],
     "prompt_number": 1
    },
    {
     "cell_type": "code",
     "collapsed": false,
     "input": [
      "#Settings that I don't really know what they are doing.\n",
      "pub_user = \"root\"\n",
      "module_supplier_id = \"27\" #Added a manaual entry for this.\n",
      "do_timestamps = True\n",
      "# Create new spittal instance.\n",
      "spittal = spittalpond.SpittalPond(\n",
      "            base_url=\"http://tmrbmub01prd:8000\",\n",
      "            pub_user=\"root\"\n",
      ")"
     ],
     "language": "python",
     "metadata": {},
     "outputs": [],
     "prompt_number": 2
    },
    {
     "cell_type": "code",
     "collapsed": false,
     "input": [
      "# Log into Django mid-tier\n",
      "spittal.do_login('password')"
     ],
     "language": "python",
     "metadata": {},
     "outputs": [
      {
       "output_type": "stream",
       "stream": "stdout",
       "text": [
        "You are logged into Mid-tier\n"
       ]
      }
     ],
     "prompt_number": 3
    },
    {
     "cell_type": "code",
     "collapsed": false,
     "input": [
      "upload_directory = \"/home/bsimmons/Oasis/MyOasisFiles/models/\"\n",
      "data_dict = spittal.upload_directory(upload_directory, do_timestamps)"
     ],
     "language": "python",
     "metadata": {},
     "outputs": [
      {
       "output_type": "stream",
       "stream": "stdout",
       "text": [
        "{\"status\": \"done\", \"id\": \"66\", \"success\": true, \"JobId\": \"0\"}\n",
        "Finally done"
       ]
      },
      {
       "output_type": "stream",
       "stream": "stdout",
       "text": [
        "\n"
       ]
      }
     ],
     "prompt_number": 4
    },
    {
     "cell_type": "code",
     "collapsed": false,
     "input": [
      "resp = spittal.create_benchmark(\n",
      "    pub_user,\n",
      "    data_dict['version_hazfp']['job_id'],\n",
      "    data_dict['exposures_main']['job_id'],\n",
      "    data_dict['version_vuln']['job_id'],\n",
      "    4,\n",
      "    3,\n",
      "    7\n",
      ")\n",
      "resp.content"
     ],
     "language": "python",
     "metadata": {},
     "outputs": [
      {
       "metadata": {},
       "output_type": "pyout",
       "prompt_number": 5,
       "text": [
        "'{\"status\": \"failed\", \"progress\": \"none\", \"detail\": \"Django Object creation failed: VulnInstance matching query does not exist.\", \"success\": false, \"JobId\": \"0\"}'"
       ]
      }
     ],
     "prompt_number": 5
    },
    {
     "cell_type": "code",
     "collapsed": false,
     "input": [
      "resp = spittal.do_task(\"Benchmark\", 1, 1)\n",
      "resp.content"
     ],
     "language": "python",
     "metadata": {},
     "outputs": [
      {
       "metadata": {},
       "output_type": "pyout",
       "prompt_number": 6,
       "text": [
        "'{\"status\": \"WIP\", \"progress\": \"Started\", \"detail\": \"OK\", \"success\": true, \"JobId\": 66}'"
       ]
      }
     ],
     "prompt_number": 6
    },
    {
     "cell_type": "code",
     "collapsed": false,
     "input": [
      "resp = spittal.check_status(66, 1)\n",
      "resp.content"
     ],
     "language": "python",
     "metadata": {},
     "outputs": [
      {
       "metadata": {},
       "output_type": "pyout",
       "prompt_number": 8,
       "text": [
        "'{\"status\": \"done\", \"CompletedSteps\": \"\", \"JobId\": 66, \"result\": \"FAILED\", \"Timeout\": false, \"progress\": \"FAILED\"}'"
       ]
      }
     ],
     "prompt_number": 8
    },
    {
     "cell_type": "code",
     "collapsed": false,
     "input": [],
     "language": "python",
     "metadata": {},
     "outputs": []
    }
   ],
   "metadata": {}
  }
 ]
}